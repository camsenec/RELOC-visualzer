{
 "cells": [
  {
   "cell_type": "code",
   "execution_count": 1,
   "id": "adjusted-advantage",
   "metadata": {
    "scrolled": true
   },
   "outputs": [
    {
     "name": "stdout",
     "output_type": "stream",
     "text": [
      "Loading...\n",
      "Loaded\n",
      "Done\n"
     ]
    }
   ],
   "source": [
    "import numpy as np\n",
    "import pandas as pd\n",
    "from scipy.sparse.linalg import svds\n",
    "import itertools\n",
    "import warnings\n",
    "warnings.filterwarnings('ignore')\n",
    "\n",
    "print(\"Loading...\")\n",
    "followers_df_all = pd.read_table('./input/user_sns.txt', names=('follower', 'followee'))\n",
    "print(\"Loaded\")\n",
    "\n",
    "id_from = 1000000\n",
    "#id_to = 1100000\n",
    "id_to = 1025000 #10 gruop\n",
    "id_to = 1021000 #5 gruop\n",
    "limit = 5\n",
    "\n",
    "a = followers_df_all[followers_df_all[\"followee\"] > id_from]\n",
    "b = a[a[\"followee\"] <= id_to]\n",
    "c = b[b[\"follower\"] > id_from]\n",
    "followers_df = c[c[\"follower\"] <= id_to]\n",
    "\n",
    "#users who belongs to a group whose size is greater than or equal to 5\n",
    "followers_count_df = followers_df.groupby(['follower']).size()\n",
    "followers_with_enough_followees_df = followers_count_df[ followers_count_df >= limit].reset_index()[['follower']]\n",
    "selected_df =  followers_df.merge(followers_with_enough_followees_df,\n",
    "               how = 'right',\n",
    "               left_on = 'follower',\n",
    "               right_on = 'follower')\n",
    "\n",
    "groups = selected_df.groupby('follower')['followee'].apply(list)\n",
    "groups_comb = selected_df.groupby('follower')['followee'].apply(list)\n",
    "groups_df = pd.DataFrame(groups).reset_index()\n",
    "#groups_df.to_csv(\"../out/tx_log.csv\", index=True, header=False)\n",
    "\n",
    "groups_for_viz = groups.copy()\n",
    "\n",
    "# append self\n",
    "for send_from in groups.keys():\n",
    "    groups[send_from].append(send_from)\n",
    "    groups_comb[send_from].append(send_from)\n",
    "\n",
    "\n",
    "\n",
    "# extract all possible pairs in the group\n",
    "for send_from in groups.keys():\n",
    "  groups[send_from] = list(itertools.permutations(groups[send_from],2))\n",
    "  groups_comb[send_from] = list(itertools.combinations(groups_comb[send_from],2))\n",
    "\n",
    "pairs = []\n",
    "for send_from in groups.keys():\n",
    "    pairs.extend(groups[send_from])\n",
    "\n",
    "sender_receiver = pd.DataFrame(pairs, columns= [\"sender\",\"receiver\"]); sender_receiver[\"count\"] = 1\n",
    "pivot_table = sender_receiver.pivot_table(values=\"count\",index='sender', columns='receiver', aggfunc = 'count').fillna(0)\n",
    "pivot_matrix = pivot_table.values\n",
    "\n",
    "# Matrix Factorization by SVD (Singular Value Decomposition)\n",
    "NUMBER_OF_FACTORS_MF = int(pivot_table.shape[0] * (0.1))\n",
    "U, sigma, Vt = svds(pivot_matrix, k = NUMBER_OF_FACTORS_MF)\n",
    "sigma = np.diag(sigma)\n",
    "\n",
    "predicted_ratings = np.dot(np.dot(U, sigma), Vt)\n",
    "svd_preds_df = pd.DataFrame(predicted_ratings, columns = pivot_table.columns, index=pivot_table.index)\n",
    "\n",
    "res = pd.DataFrame(columns=['related_clients'])\n",
    "for client_id in svd_preds_df.keys():\n",
    "    sorted_client_predictions = list(svd_preds_df[client_id].sort_values(ascending=False).keys())\n",
    "    res.loc[client_id] = [sorted_client_predictions]\n",
    "\n",
    "#res.to_csv('../out/relationship.csv', header = False, index=True)\n",
    "print(\"Done\")"
   ]
  },
  {
   "cell_type": "code",
   "execution_count": 2,
   "id": "exterior-staff",
   "metadata": {
    "scrolled": true
   },
   "outputs": [
    {
     "data": {
      "text/plain": [
       "follower\n",
       "1007290    [1000512, 1001365, 1004622, 1006355, 1006824, ...\n",
       "1011300    [1001726, 1002651, 1007775, 1010402, 1014497, ...\n",
       "1011793    [1004622, 1010402, 1010725, 1016888, 1020045, ...\n",
       "1014677    [1002875, 1014569, 1016352, 1017157, 1019661, ...\n",
       "1018445    [1001365, 1001726, 1002568, 1009342, 1010402, ...\n",
       "Name: followee, dtype: object"
      ]
     },
     "execution_count": 2,
     "metadata": {},
     "output_type": "execute_result"
    }
   ],
   "source": [
    "groups_for_viz"
   ]
  },
  {
   "cell_type": "code",
   "execution_count": 3,
   "id": "conditional-sixth",
   "metadata": {
    "scrolled": true
   },
   "outputs": [],
   "source": [
    "edges = set()\n",
    "tmp_nodes = set()\n",
    "for rep in groups_for_viz.keys():\n",
    "    tmp_nodes.add(rep)\n",
    "    for other in groups_for_viz[rep]:\n",
    "        edges.add((rep,other))\n",
    "        tmp_nodes.add(other)\n",
    "edges = list(edges)\n",
    "\n",
    "clients_df = pd.read_csv(\"clientCache.csv\", names = [\"application_id\", \"client_id\", \"x\", \"y\", \"home_id\"])\n",
    "nodes = list()\n",
    "for i in range(len(clients_df)):\n",
    "    if clients_df.iloc[i][\"client_id\"] in tmp_nodes:\n",
    "        nodes.append((clients_df.iloc[i][\"client_id\"], {\"pos\" : [clients_df.iloc[i][\"x\"], clients_df.iloc[i][\"y\"]]}))"
   ]
  },
  {
   "cell_type": "code",
   "execution_count": 4,
   "id": "attended-kennedy",
   "metadata": {},
   "outputs": [],
   "source": [
    "edges = set()\n",
    "for g in groups_comb:\n",
    "    for p in g:\n",
    "        edges.add(p)\n",
    "        tmp_nodes.add(p[0]); tmp_nodes.add(p[1])\n",
    "edges = list(edges)\n",
    "\n",
    "clients_df = pd.read_csv(\"clientCache.csv\", names = [\"application_id\", \"client_id\", \"x\", \"y\", \"home_id\"])\n",
    "nodes = list()\n",
    "for i in range(len(clients_df)):\n",
    "    if clients_df.iloc[i][\"client_id\"] in tmp_nodes:\n",
    "        nodes.append((clients_df.iloc[i][\"client_id\"], {\"pos\" : [clients_df.iloc[i][\"x\"], clients_df.iloc[i][\"y\"]]}))"
   ]
  },
  {
   "cell_type": "code",
   "execution_count": 24,
   "id": "psychological-article",
   "metadata": {},
   "outputs": [
    {
     "data": {
      "application/vnd.plotly.v1+json": {
       "config": {
        "plotlyServerURL": "https://plot.ly"
       },
       "data": [
        {
         "hoverinfo": "none",
         "line": {
          "color": "#888",
          "width": 0.5
         },
         "mode": "lines",
         "type": "scatter",
         "x": [
          8.079321046305106,
          22.79375815189544,
          null,
          8.079321046305106,
          10.40215610404138,
          null,
          8.079321046305106,
          6.822598053593523,
          null,
          8.079321046305106,
          9.25233509360699,
          null,
          8.079321046305106,
          25.245197173693708,
          null,
          8.079321046305106,
          26.191674735534697,
          null,
          8.079321046305106,
          17.492112121746718,
          null,
          8.079321046305106,
          8.748374624905939,
          null,
          8.079321046305106,
          31.397704902242427,
          null,
          8.079321046305106,
          18.26549841829213,
          null,
          15.775169816035184,
          17.492112121746718,
          null,
          15.775169816035184,
          16.409137793648995,
          null,
          15.775169816035184,
          17.354396846225544,
          null,
          15.775169816035184,
          18.26549841829213,
          null,
          15.775169816035184,
          10.89067868425146,
          null,
          15.775169816035184,
          12.709784021424715,
          null,
          80.81335739366162,
          87.06574105627905,
          null,
          80.81335739366162,
          82.23969391941765,
          null,
          80.81335739366162,
          77.09342644237488,
          null,
          80.81335739366162,
          75.04493547656006,
          null,
          80.81335739366162,
          81.55410172893957,
          null,
          22.79375815189544,
          31.397704902242427,
          null,
          22.79375815189544,
          26.191674735534697,
          null,
          22.79375815189544,
          18.26549841829213,
          null,
          22.79375815189544,
          25.245197173693708,
          null,
          12.709784021424715,
          17.492112121746718,
          null,
          12.709784021424715,
          10.89067868425146,
          null,
          12.709784021424715,
          16.409137793648995,
          null,
          12.709784021424715,
          18.26549841829213,
          null,
          12.709784021424715,
          17.354396846225544,
          null,
          87.06574105627905,
          77.09342644237488,
          null,
          87.06574105627905,
          75.04493547656006,
          null,
          87.06574105627905,
          81.55410172893957,
          null,
          87.06574105627905,
          82.23969391941765,
          null,
          6.822598053593523,
          10.40215610404138,
          null,
          6.822598053593523,
          9.25233509360699,
          null,
          6.822598053593523,
          8.748374624905939,
          null,
          6.822598053593523,
          17.492112121746718,
          null,
          6.822598053593523,
          18.26549841829213,
          null,
          66.6652716551306,
          18.26549841829213,
          null,
          66.6652716551306,
          67.75274689656928,
          null,
          66.6652716551306,
          63.57496134456453,
          null,
          66.6652716551306,
          63.34205375212692,
          null,
          66.6652716551306,
          17.354396846225544,
          null,
          66.6652716551306,
          60.11175588871629,
          null,
          66.6652716551306,
          73.52297608693043,
          null,
          63.34205375212692,
          18.26549841829213,
          null,
          63.34205375212692,
          67.75274689656928,
          null,
          63.34205375212692,
          17.354396846225544,
          null,
          63.34205375212692,
          63.57496134456453,
          null,
          63.34205375212692,
          60.11175588871629,
          null,
          63.34205375212692,
          73.52297608693043,
          null,
          63.57496134456453,
          67.75274689656928,
          null,
          63.57496134456453,
          17.354396846225544,
          null,
          63.57496134456453,
          18.26549841829213,
          null,
          63.57496134456453,
          73.52297608693043,
          null,
          63.57496134456453,
          60.11175588871629,
          null,
          17.492112121746718,
          10.40215610404138,
          null,
          17.492112121746718,
          9.25233509360699,
          null,
          17.492112121746718,
          8.748374624905939,
          null,
          17.492112121746718,
          10.89067868425146,
          null,
          17.492112121746718,
          16.409137793648995,
          null,
          17.492112121746718,
          17.354396846225544,
          null,
          17.492112121746718,
          18.26549841829213,
          null,
          10.89067868425146,
          18.26549841829213,
          null,
          10.89067868425146,
          17.354396846225544,
          null,
          10.89067868425146,
          16.409137793648995,
          null,
          81.55410172893957,
          77.09342644237488,
          null,
          81.55410172893957,
          75.04493547656006,
          null,
          81.55410172893957,
          82.23969391941765,
          null,
          8.748374624905939,
          10.40215610404138,
          null,
          8.748374624905939,
          9.25233509360699,
          null,
          8.748374624905939,
          18.26549841829213,
          null,
          26.191674735534697,
          31.397704902242427,
          null,
          26.191674735534697,
          18.26549841829213,
          null,
          26.191674735534697,
          25.245197173693708,
          null,
          82.23969391941765,
          77.09342644237488,
          null,
          82.23969391941765,
          75.04493547656006,
          null,
          10.40215610404138,
          18.26549841829213,
          null,
          10.40215610404138,
          9.25233509360699,
          null,
          31.397704902242427,
          25.245197173693708,
          null,
          31.397704902242427,
          18.26549841829213,
          null,
          67.75274689656928,
          60.11175588871629,
          null,
          67.75274689656928,
          17.354396846225544,
          null,
          67.75274689656928,
          18.26549841829213,
          null,
          67.75274689656928,
          73.52297608693043,
          null,
          18.26549841829213,
          16.409137793648995,
          null,
          18.26549841829213,
          17.354396846225544,
          null,
          18.26549841829213,
          25.245197173693708,
          null,
          18.26549841829213,
          60.11175588871629,
          null,
          18.26549841829213,
          9.25233509360699,
          null,
          18.26549841829213,
          73.52297608693043,
          null,
          60.11175588871629,
          73.52297608693043,
          null,
          60.11175588871629,
          17.354396846225544,
          null,
          73.52297608693043,
          17.354396846225544,
          null,
          77.09342644237488,
          75.04493547656006,
          null,
          17.354396846225544,
          16.409137793648995,
          null
         ],
         "y": [
          66.75022216541976,
          25.507405317502965,
          null,
          66.75022216541976,
          72.11438178934522,
          null,
          66.75022216541976,
          63.81438815822722,
          null,
          66.75022216541976,
          67.15281496125367,
          null,
          66.75022216541976,
          24.684070547557525,
          null,
          66.75022216541976,
          25.467730231558217,
          null,
          66.75022216541976,
          91.56239277702886,
          null,
          66.75022216541976,
          76.38930741682384,
          null,
          66.75022216541976,
          24.473608444401314,
          null,
          66.75022216541976,
          90.36760324498756,
          null,
          97.49221800239482,
          91.56239277702886,
          null,
          97.49221800239482,
          95.5497541935012,
          null,
          97.49221800239482,
          90.61610997915923,
          null,
          97.49221800239482,
          90.36760324498756,
          null,
          97.49221800239482,
          91.86086934113294,
          null,
          97.49221800239482,
          98.74526950897894,
          null,
          20.50167178404354,
          24.478524689000096,
          null,
          20.50167178404354,
          19.68574161501889,
          null,
          20.50167178404354,
          27.982292420796583,
          null,
          20.50167178404354,
          26.179156777431604,
          null,
          20.50167178404354,
          24.43465382731874,
          null,
          25.507405317502965,
          24.473608444401314,
          null,
          25.507405317502965,
          25.467730231558217,
          null,
          25.507405317502965,
          90.36760324498756,
          null,
          25.507405317502965,
          24.684070547557525,
          null,
          98.74526950897894,
          91.56239277702886,
          null,
          98.74526950897894,
          91.86086934113294,
          null,
          98.74526950897894,
          95.5497541935012,
          null,
          98.74526950897894,
          90.36760324498756,
          null,
          98.74526950897894,
          90.61610997915923,
          null,
          24.478524689000096,
          27.982292420796583,
          null,
          24.478524689000096,
          26.179156777431604,
          null,
          24.478524689000096,
          24.43465382731874,
          null,
          24.478524689000096,
          19.68574161501889,
          null,
          63.81438815822722,
          72.11438178934522,
          null,
          63.81438815822722,
          67.15281496125367,
          null,
          63.81438815822722,
          76.38930741682384,
          null,
          63.81438815822722,
          91.56239277702886,
          null,
          63.81438815822722,
          90.36760324498756,
          null,
          66.52197276785603,
          90.36760324498756,
          null,
          66.52197276785603,
          67.0856742537121,
          null,
          66.52197276785603,
          66.9515736527566,
          null,
          66.52197276785603,
          69.53812338065642,
          null,
          66.52197276785603,
          90.61610997915923,
          null,
          66.52197276785603,
          68.86690254545434,
          null,
          66.52197276785603,
          62.644684969346,
          null,
          69.53812338065642,
          90.36760324498756,
          null,
          69.53812338065642,
          67.0856742537121,
          null,
          69.53812338065642,
          90.61610997915923,
          null,
          69.53812338065642,
          66.9515736527566,
          null,
          69.53812338065642,
          68.86690254545434,
          null,
          69.53812338065642,
          62.644684969346,
          null,
          66.9515736527566,
          67.0856742537121,
          null,
          66.9515736527566,
          90.61610997915923,
          null,
          66.9515736527566,
          90.36760324498756,
          null,
          66.9515736527566,
          62.644684969346,
          null,
          66.9515736527566,
          68.86690254545434,
          null,
          91.56239277702886,
          72.11438178934522,
          null,
          91.56239277702886,
          67.15281496125367,
          null,
          91.56239277702886,
          76.38930741682384,
          null,
          91.56239277702886,
          91.86086934113294,
          null,
          91.56239277702886,
          95.5497541935012,
          null,
          91.56239277702886,
          90.61610997915923,
          null,
          91.56239277702886,
          90.36760324498756,
          null,
          91.86086934113294,
          90.36760324498756,
          null,
          91.86086934113294,
          90.61610997915923,
          null,
          91.86086934113294,
          95.5497541935012,
          null,
          24.43465382731874,
          27.982292420796583,
          null,
          24.43465382731874,
          26.179156777431604,
          null,
          24.43465382731874,
          19.68574161501889,
          null,
          76.38930741682384,
          72.11438178934522,
          null,
          76.38930741682384,
          67.15281496125367,
          null,
          76.38930741682384,
          90.36760324498756,
          null,
          25.467730231558217,
          24.473608444401314,
          null,
          25.467730231558217,
          90.36760324498756,
          null,
          25.467730231558217,
          24.684070547557525,
          null,
          19.68574161501889,
          27.982292420796583,
          null,
          19.68574161501889,
          26.179156777431604,
          null,
          72.11438178934522,
          90.36760324498756,
          null,
          72.11438178934522,
          67.15281496125367,
          null,
          24.473608444401314,
          24.684070547557525,
          null,
          24.473608444401314,
          90.36760324498756,
          null,
          67.0856742537121,
          68.86690254545434,
          null,
          67.0856742537121,
          90.61610997915923,
          null,
          67.0856742537121,
          90.36760324498756,
          null,
          67.0856742537121,
          62.644684969346,
          null,
          90.36760324498756,
          95.5497541935012,
          null,
          90.36760324498756,
          90.61610997915923,
          null,
          90.36760324498756,
          24.684070547557525,
          null,
          90.36760324498756,
          68.86690254545434,
          null,
          90.36760324498756,
          67.15281496125367,
          null,
          90.36760324498756,
          62.644684969346,
          null,
          68.86690254545434,
          62.644684969346,
          null,
          68.86690254545434,
          90.61610997915923,
          null,
          62.644684969346,
          90.61610997915923,
          null,
          27.982292420796583,
          26.179156777431604,
          null,
          90.61610997915923,
          95.5497541935012,
          null
         ]
        },
        {
         "hoverinfo": "text",
         "marker": {
          "color": [
           10,
           6,
           5,
           5,
           6,
           5,
           6,
           7,
           7,
           7,
           11,
           6,
           5,
           6,
           5,
           5,
           6,
           5,
           7,
           21,
           7,
           7,
           5,
           12,
           6,
           5,
           6,
           5
          ],
          "colorbar": {
           "thickness": 15,
           "title": {
            "side": "right",
            "text": "Node Connections"
           },
           "xanchor": "left"
          },
          "colorscale": [
           [
            0,
            "rgb(255,255,217)"
           ],
           [
            0.125,
            "rgb(237,248,177)"
           ],
           [
            0.25,
            "rgb(199,233,180)"
           ],
           [
            0.375,
            "rgb(127,205,187)"
           ],
           [
            0.5,
            "rgb(65,182,196)"
           ],
           [
            0.625,
            "rgb(29,145,192)"
           ],
           [
            0.75,
            "rgb(34,94,168)"
           ],
           [
            0.875,
            "rgb(37,52,148)"
           ],
           [
            1,
            "rgb(8,29,88)"
           ]
          ],
          "line": {
           "width": 2
          },
          "reversescale": true,
          "showscale": true,
          "size": 10
         },
         "mode": "markers",
         "text": [
          "# of connections: 10",
          "# of connections: 6",
          "# of connections: 5",
          "# of connections: 5",
          "# of connections: 6",
          "# of connections: 5",
          "# of connections: 6",
          "# of connections: 7",
          "# of connections: 7",
          "# of connections: 7",
          "# of connections: 11",
          "# of connections: 6",
          "# of connections: 5",
          "# of connections: 6",
          "# of connections: 5",
          "# of connections: 5",
          "# of connections: 6",
          "# of connections: 5",
          "# of connections: 7",
          "# of connections: 21",
          "# of connections: 7",
          "# of connections: 7",
          "# of connections: 5",
          "# of connections: 12",
          "# of connections: 6",
          "# of connections: 5",
          "# of connections: 6",
          "# of connections: 5"
         ],
         "type": "scatter",
         "x": [
          8.079321046305106,
          15.775169816035184,
          80.81335739366162,
          22.79375815189544,
          12.709784021424715,
          87.06574105627905,
          6.822598053593523,
          66.6652716551306,
          63.34205375212692,
          63.57496134456453,
          17.492112121746718,
          10.89067868425146,
          81.55410172893957,
          8.748374624905939,
          26.191674735534697,
          82.23969391941765,
          10.40215610404138,
          31.397704902242427,
          67.75274689656928,
          18.26549841829213,
          60.11175588871629,
          73.52297608693043,
          77.09342644237488,
          17.354396846225544,
          16.409137793648995,
          75.04493547656006,
          9.25233509360699,
          25.245197173693708
         ],
         "y": [
          66.75022216541976,
          97.49221800239482,
          20.50167178404354,
          25.507405317502965,
          98.74526950897894,
          24.478524689000096,
          63.81438815822722,
          66.52197276785603,
          69.53812338065642,
          66.9515736527566,
          91.56239277702886,
          91.86086934113294,
          24.43465382731874,
          76.38930741682384,
          25.467730231558217,
          19.68574161501889,
          72.11438178934522,
          24.473608444401314,
          67.0856742537121,
          90.36760324498756,
          68.86690254545434,
          62.644684969346,
          27.982292420796583,
          90.61610997915923,
          95.5497541935012,
          26.179156777431604,
          67.15281496125367,
          24.684070547557525
         ]
        }
       ],
       "layout": {
        "font": {
         "size": 16
        },
        "height": 1000,
        "hovermode": "closest",
        "margin": {
         "b": 20,
         "l": 5,
         "r": 5,
         "t": 40
        },
        "showlegend": false,
        "template": {
         "data": {
          "bar": [
           {
            "error_x": {
             "color": "#2a3f5f"
            },
            "error_y": {
             "color": "#2a3f5f"
            },
            "marker": {
             "line": {
              "color": "#E5ECF6",
              "width": 0.5
             }
            },
            "type": "bar"
           }
          ],
          "barpolar": [
           {
            "marker": {
             "line": {
              "color": "#E5ECF6",
              "width": 0.5
             }
            },
            "type": "barpolar"
           }
          ],
          "carpet": [
           {
            "aaxis": {
             "endlinecolor": "#2a3f5f",
             "gridcolor": "white",
             "linecolor": "white",
             "minorgridcolor": "white",
             "startlinecolor": "#2a3f5f"
            },
            "baxis": {
             "endlinecolor": "#2a3f5f",
             "gridcolor": "white",
             "linecolor": "white",
             "minorgridcolor": "white",
             "startlinecolor": "#2a3f5f"
            },
            "type": "carpet"
           }
          ],
          "choropleth": [
           {
            "colorbar": {
             "outlinewidth": 0,
             "ticks": ""
            },
            "type": "choropleth"
           }
          ],
          "contour": [
           {
            "colorbar": {
             "outlinewidth": 0,
             "ticks": ""
            },
            "colorscale": [
             [
              0,
              "#0d0887"
             ],
             [
              0.1111111111111111,
              "#46039f"
             ],
             [
              0.2222222222222222,
              "#7201a8"
             ],
             [
              0.3333333333333333,
              "#9c179e"
             ],
             [
              0.4444444444444444,
              "#bd3786"
             ],
             [
              0.5555555555555556,
              "#d8576b"
             ],
             [
              0.6666666666666666,
              "#ed7953"
             ],
             [
              0.7777777777777778,
              "#fb9f3a"
             ],
             [
              0.8888888888888888,
              "#fdca26"
             ],
             [
              1,
              "#f0f921"
             ]
            ],
            "type": "contour"
           }
          ],
          "contourcarpet": [
           {
            "colorbar": {
             "outlinewidth": 0,
             "ticks": ""
            },
            "type": "contourcarpet"
           }
          ],
          "heatmap": [
           {
            "colorbar": {
             "outlinewidth": 0,
             "ticks": ""
            },
            "colorscale": [
             [
              0,
              "#0d0887"
             ],
             [
              0.1111111111111111,
              "#46039f"
             ],
             [
              0.2222222222222222,
              "#7201a8"
             ],
             [
              0.3333333333333333,
              "#9c179e"
             ],
             [
              0.4444444444444444,
              "#bd3786"
             ],
             [
              0.5555555555555556,
              "#d8576b"
             ],
             [
              0.6666666666666666,
              "#ed7953"
             ],
             [
              0.7777777777777778,
              "#fb9f3a"
             ],
             [
              0.8888888888888888,
              "#fdca26"
             ],
             [
              1,
              "#f0f921"
             ]
            ],
            "type": "heatmap"
           }
          ],
          "heatmapgl": [
           {
            "colorbar": {
             "outlinewidth": 0,
             "ticks": ""
            },
            "colorscale": [
             [
              0,
              "#0d0887"
             ],
             [
              0.1111111111111111,
              "#46039f"
             ],
             [
              0.2222222222222222,
              "#7201a8"
             ],
             [
              0.3333333333333333,
              "#9c179e"
             ],
             [
              0.4444444444444444,
              "#bd3786"
             ],
             [
              0.5555555555555556,
              "#d8576b"
             ],
             [
              0.6666666666666666,
              "#ed7953"
             ],
             [
              0.7777777777777778,
              "#fb9f3a"
             ],
             [
              0.8888888888888888,
              "#fdca26"
             ],
             [
              1,
              "#f0f921"
             ]
            ],
            "type": "heatmapgl"
           }
          ],
          "histogram": [
           {
            "marker": {
             "colorbar": {
              "outlinewidth": 0,
              "ticks": ""
             }
            },
            "type": "histogram"
           }
          ],
          "histogram2d": [
           {
            "colorbar": {
             "outlinewidth": 0,
             "ticks": ""
            },
            "colorscale": [
             [
              0,
              "#0d0887"
             ],
             [
              0.1111111111111111,
              "#46039f"
             ],
             [
              0.2222222222222222,
              "#7201a8"
             ],
             [
              0.3333333333333333,
              "#9c179e"
             ],
             [
              0.4444444444444444,
              "#bd3786"
             ],
             [
              0.5555555555555556,
              "#d8576b"
             ],
             [
              0.6666666666666666,
              "#ed7953"
             ],
             [
              0.7777777777777778,
              "#fb9f3a"
             ],
             [
              0.8888888888888888,
              "#fdca26"
             ],
             [
              1,
              "#f0f921"
             ]
            ],
            "type": "histogram2d"
           }
          ],
          "histogram2dcontour": [
           {
            "colorbar": {
             "outlinewidth": 0,
             "ticks": ""
            },
            "colorscale": [
             [
              0,
              "#0d0887"
             ],
             [
              0.1111111111111111,
              "#46039f"
             ],
             [
              0.2222222222222222,
              "#7201a8"
             ],
             [
              0.3333333333333333,
              "#9c179e"
             ],
             [
              0.4444444444444444,
              "#bd3786"
             ],
             [
              0.5555555555555556,
              "#d8576b"
             ],
             [
              0.6666666666666666,
              "#ed7953"
             ],
             [
              0.7777777777777778,
              "#fb9f3a"
             ],
             [
              0.8888888888888888,
              "#fdca26"
             ],
             [
              1,
              "#f0f921"
             ]
            ],
            "type": "histogram2dcontour"
           }
          ],
          "mesh3d": [
           {
            "colorbar": {
             "outlinewidth": 0,
             "ticks": ""
            },
            "type": "mesh3d"
           }
          ],
          "parcoords": [
           {
            "line": {
             "colorbar": {
              "outlinewidth": 0,
              "ticks": ""
             }
            },
            "type": "parcoords"
           }
          ],
          "pie": [
           {
            "automargin": true,
            "type": "pie"
           }
          ],
          "scatter": [
           {
            "marker": {
             "colorbar": {
              "outlinewidth": 0,
              "ticks": ""
             }
            },
            "type": "scatter"
           }
          ],
          "scatter3d": [
           {
            "line": {
             "colorbar": {
              "outlinewidth": 0,
              "ticks": ""
             }
            },
            "marker": {
             "colorbar": {
              "outlinewidth": 0,
              "ticks": ""
             }
            },
            "type": "scatter3d"
           }
          ],
          "scattercarpet": [
           {
            "marker": {
             "colorbar": {
              "outlinewidth": 0,
              "ticks": ""
             }
            },
            "type": "scattercarpet"
           }
          ],
          "scattergeo": [
           {
            "marker": {
             "colorbar": {
              "outlinewidth": 0,
              "ticks": ""
             }
            },
            "type": "scattergeo"
           }
          ],
          "scattergl": [
           {
            "marker": {
             "colorbar": {
              "outlinewidth": 0,
              "ticks": ""
             }
            },
            "type": "scattergl"
           }
          ],
          "scattermapbox": [
           {
            "marker": {
             "colorbar": {
              "outlinewidth": 0,
              "ticks": ""
             }
            },
            "type": "scattermapbox"
           }
          ],
          "scatterpolar": [
           {
            "marker": {
             "colorbar": {
              "outlinewidth": 0,
              "ticks": ""
             }
            },
            "type": "scatterpolar"
           }
          ],
          "scatterpolargl": [
           {
            "marker": {
             "colorbar": {
              "outlinewidth": 0,
              "ticks": ""
             }
            },
            "type": "scatterpolargl"
           }
          ],
          "scatterternary": [
           {
            "marker": {
             "colorbar": {
              "outlinewidth": 0,
              "ticks": ""
             }
            },
            "type": "scatterternary"
           }
          ],
          "surface": [
           {
            "colorbar": {
             "outlinewidth": 0,
             "ticks": ""
            },
            "colorscale": [
             [
              0,
              "#0d0887"
             ],
             [
              0.1111111111111111,
              "#46039f"
             ],
             [
              0.2222222222222222,
              "#7201a8"
             ],
             [
              0.3333333333333333,
              "#9c179e"
             ],
             [
              0.4444444444444444,
              "#bd3786"
             ],
             [
              0.5555555555555556,
              "#d8576b"
             ],
             [
              0.6666666666666666,
              "#ed7953"
             ],
             [
              0.7777777777777778,
              "#fb9f3a"
             ],
             [
              0.8888888888888888,
              "#fdca26"
             ],
             [
              1,
              "#f0f921"
             ]
            ],
            "type": "surface"
           }
          ],
          "table": [
           {
            "cells": {
             "fill": {
              "color": "#EBF0F8"
             },
             "line": {
              "color": "white"
             }
            },
            "header": {
             "fill": {
              "color": "#C8D4E3"
             },
             "line": {
              "color": "white"
             }
            },
            "type": "table"
           }
          ]
         },
         "layout": {
          "annotationdefaults": {
           "arrowcolor": "#2a3f5f",
           "arrowhead": 0,
           "arrowwidth": 1
          },
          "autotypenumbers": "strict",
          "coloraxis": {
           "colorbar": {
            "outlinewidth": 0,
            "ticks": ""
           }
          },
          "colorscale": {
           "diverging": [
            [
             0,
             "#8e0152"
            ],
            [
             0.1,
             "#c51b7d"
            ],
            [
             0.2,
             "#de77ae"
            ],
            [
             0.3,
             "#f1b6da"
            ],
            [
             0.4,
             "#fde0ef"
            ],
            [
             0.5,
             "#f7f7f7"
            ],
            [
             0.6,
             "#e6f5d0"
            ],
            [
             0.7,
             "#b8e186"
            ],
            [
             0.8,
             "#7fbc41"
            ],
            [
             0.9,
             "#4d9221"
            ],
            [
             1,
             "#276419"
            ]
           ],
           "sequential": [
            [
             0,
             "#0d0887"
            ],
            [
             0.1111111111111111,
             "#46039f"
            ],
            [
             0.2222222222222222,
             "#7201a8"
            ],
            [
             0.3333333333333333,
             "#9c179e"
            ],
            [
             0.4444444444444444,
             "#bd3786"
            ],
            [
             0.5555555555555556,
             "#d8576b"
            ],
            [
             0.6666666666666666,
             "#ed7953"
            ],
            [
             0.7777777777777778,
             "#fb9f3a"
            ],
            [
             0.8888888888888888,
             "#fdca26"
            ],
            [
             1,
             "#f0f921"
            ]
           ],
           "sequentialminus": [
            [
             0,
             "#0d0887"
            ],
            [
             0.1111111111111111,
             "#46039f"
            ],
            [
             0.2222222222222222,
             "#7201a8"
            ],
            [
             0.3333333333333333,
             "#9c179e"
            ],
            [
             0.4444444444444444,
             "#bd3786"
            ],
            [
             0.5555555555555556,
             "#d8576b"
            ],
            [
             0.6666666666666666,
             "#ed7953"
            ],
            [
             0.7777777777777778,
             "#fb9f3a"
            ],
            [
             0.8888888888888888,
             "#fdca26"
            ],
            [
             1,
             "#f0f921"
            ]
           ]
          },
          "colorway": [
           "#636efa",
           "#EF553B",
           "#00cc96",
           "#ab63fa",
           "#FFA15A",
           "#19d3f3",
           "#FF6692",
           "#B6E880",
           "#FF97FF",
           "#FECB52"
          ],
          "font": {
           "color": "#2a3f5f"
          },
          "geo": {
           "bgcolor": "white",
           "lakecolor": "white",
           "landcolor": "#E5ECF6",
           "showlakes": true,
           "showland": true,
           "subunitcolor": "white"
          },
          "hoverlabel": {
           "align": "left"
          },
          "hovermode": "closest",
          "mapbox": {
           "style": "light"
          },
          "paper_bgcolor": "white",
          "plot_bgcolor": "#E5ECF6",
          "polar": {
           "angularaxis": {
            "gridcolor": "white",
            "linecolor": "white",
            "ticks": ""
           },
           "bgcolor": "#E5ECF6",
           "radialaxis": {
            "gridcolor": "white",
            "linecolor": "white",
            "ticks": ""
           }
          },
          "scene": {
           "xaxis": {
            "backgroundcolor": "#E5ECF6",
            "gridcolor": "white",
            "gridwidth": 2,
            "linecolor": "white",
            "showbackground": true,
            "ticks": "",
            "zerolinecolor": "white"
           },
           "yaxis": {
            "backgroundcolor": "#E5ECF6",
            "gridcolor": "white",
            "gridwidth": 2,
            "linecolor": "white",
            "showbackground": true,
            "ticks": "",
            "zerolinecolor": "white"
           },
           "zaxis": {
            "backgroundcolor": "#E5ECF6",
            "gridcolor": "white",
            "gridwidth": 2,
            "linecolor": "white",
            "showbackground": true,
            "ticks": "",
            "zerolinecolor": "white"
           }
          },
          "shapedefaults": {
           "line": {
            "color": "#2a3f5f"
           }
          },
          "ternary": {
           "aaxis": {
            "gridcolor": "white",
            "linecolor": "white",
            "ticks": ""
           },
           "baxis": {
            "gridcolor": "white",
            "linecolor": "white",
            "ticks": ""
           },
           "bgcolor": "#E5ECF6",
           "caxis": {
            "gridcolor": "white",
            "linecolor": "white",
            "ticks": ""
           }
          },
          "title": {
           "x": 0.05
          },
          "xaxis": {
           "automargin": true,
           "gridcolor": "white",
           "linecolor": "white",
           "ticks": "",
           "title": {
            "standoff": 15
           },
           "zerolinecolor": "white",
           "zerolinewidth": 2
          },
          "yaxis": {
           "automargin": true,
           "gridcolor": "white",
           "linecolor": "white",
           "ticks": "",
           "title": {
            "standoff": 15
           },
           "zerolinecolor": "white",
           "zerolinewidth": 2
          }
         }
        },
        "title": {
         "font": {
          "size": 16
         }
        },
        "width": 1000,
        "xaxis": {
         "range": [
          0,
          100
         ],
         "showgrid": true,
         "showticklabels": true,
         "zeroline": true
        },
        "yaxis": {
         "range": [
          0,
          100
         ],
         "showgrid": true,
         "showticklabels": true,
         "zeroline": true
        }
       }
      },
      "text/html": [
       "<div>                            <div id=\"a9bf6758-c765-4af4-b0b1-6862f299ddce\" class=\"plotly-graph-div\" style=\"height:1000px; width:1000px;\"></div>            <script type=\"text/javascript\">                require([\"plotly\"], function(Plotly) {                    window.PLOTLYENV=window.PLOTLYENV || {};                                    if (document.getElementById(\"a9bf6758-c765-4af4-b0b1-6862f299ddce\")) {                    Plotly.newPlot(                        \"a9bf6758-c765-4af4-b0b1-6862f299ddce\",                        [{\"hoverinfo\": \"none\", \"line\": {\"color\": \"#888\", \"width\": 0.5}, \"mode\": \"lines\", \"type\": \"scatter\", \"x\": [8.079321046305106, 22.79375815189544, null, 8.079321046305106, 10.40215610404138, null, 8.079321046305106, 6.822598053593523, null, 8.079321046305106, 9.25233509360699, null, 8.079321046305106, 25.245197173693708, null, 8.079321046305106, 26.191674735534697, null, 8.079321046305106, 17.492112121746718, null, 8.079321046305106, 8.748374624905939, null, 8.079321046305106, 31.397704902242427, null, 8.079321046305106, 18.26549841829213, null, 15.775169816035184, 17.492112121746718, null, 15.775169816035184, 16.409137793648995, null, 15.775169816035184, 17.354396846225544, null, 15.775169816035184, 18.26549841829213, null, 15.775169816035184, 10.89067868425146, null, 15.775169816035184, 12.709784021424715, null, 80.81335739366162, 87.06574105627905, null, 80.81335739366162, 82.23969391941765, null, 80.81335739366162, 77.09342644237488, null, 80.81335739366162, 75.04493547656006, null, 80.81335739366162, 81.55410172893957, null, 22.79375815189544, 31.397704902242427, null, 22.79375815189544, 26.191674735534697, null, 22.79375815189544, 18.26549841829213, null, 22.79375815189544, 25.245197173693708, null, 12.709784021424715, 17.492112121746718, null, 12.709784021424715, 10.89067868425146, null, 12.709784021424715, 16.409137793648995, null, 12.709784021424715, 18.26549841829213, null, 12.709784021424715, 17.354396846225544, null, 87.06574105627905, 77.09342644237488, null, 87.06574105627905, 75.04493547656006, null, 87.06574105627905, 81.55410172893957, null, 87.06574105627905, 82.23969391941765, null, 6.822598053593523, 10.40215610404138, null, 6.822598053593523, 9.25233509360699, null, 6.822598053593523, 8.748374624905939, null, 6.822598053593523, 17.492112121746718, null, 6.822598053593523, 18.26549841829213, null, 66.6652716551306, 18.26549841829213, null, 66.6652716551306, 67.75274689656928, null, 66.6652716551306, 63.57496134456453, null, 66.6652716551306, 63.34205375212692, null, 66.6652716551306, 17.354396846225544, null, 66.6652716551306, 60.11175588871629, null, 66.6652716551306, 73.52297608693043, null, 63.34205375212692, 18.26549841829213, null, 63.34205375212692, 67.75274689656928, null, 63.34205375212692, 17.354396846225544, null, 63.34205375212692, 63.57496134456453, null, 63.34205375212692, 60.11175588871629, null, 63.34205375212692, 73.52297608693043, null, 63.57496134456453, 67.75274689656928, null, 63.57496134456453, 17.354396846225544, null, 63.57496134456453, 18.26549841829213, null, 63.57496134456453, 73.52297608693043, null, 63.57496134456453, 60.11175588871629, null, 17.492112121746718, 10.40215610404138, null, 17.492112121746718, 9.25233509360699, null, 17.492112121746718, 8.748374624905939, null, 17.492112121746718, 10.89067868425146, null, 17.492112121746718, 16.409137793648995, null, 17.492112121746718, 17.354396846225544, null, 17.492112121746718, 18.26549841829213, null, 10.89067868425146, 18.26549841829213, null, 10.89067868425146, 17.354396846225544, null, 10.89067868425146, 16.409137793648995, null, 81.55410172893957, 77.09342644237488, null, 81.55410172893957, 75.04493547656006, null, 81.55410172893957, 82.23969391941765, null, 8.748374624905939, 10.40215610404138, null, 8.748374624905939, 9.25233509360699, null, 8.748374624905939, 18.26549841829213, null, 26.191674735534697, 31.397704902242427, null, 26.191674735534697, 18.26549841829213, null, 26.191674735534697, 25.245197173693708, null, 82.23969391941765, 77.09342644237488, null, 82.23969391941765, 75.04493547656006, null, 10.40215610404138, 18.26549841829213, null, 10.40215610404138, 9.25233509360699, null, 31.397704902242427, 25.245197173693708, null, 31.397704902242427, 18.26549841829213, null, 67.75274689656928, 60.11175588871629, null, 67.75274689656928, 17.354396846225544, null, 67.75274689656928, 18.26549841829213, null, 67.75274689656928, 73.52297608693043, null, 18.26549841829213, 16.409137793648995, null, 18.26549841829213, 17.354396846225544, null, 18.26549841829213, 25.245197173693708, null, 18.26549841829213, 60.11175588871629, null, 18.26549841829213, 9.25233509360699, null, 18.26549841829213, 73.52297608693043, null, 60.11175588871629, 73.52297608693043, null, 60.11175588871629, 17.354396846225544, null, 73.52297608693043, 17.354396846225544, null, 77.09342644237488, 75.04493547656006, null, 17.354396846225544, 16.409137793648995, null], \"y\": [66.75022216541976, 25.507405317502965, null, 66.75022216541976, 72.11438178934522, null, 66.75022216541976, 63.81438815822722, null, 66.75022216541976, 67.15281496125367, null, 66.75022216541976, 24.684070547557525, null, 66.75022216541976, 25.467730231558217, null, 66.75022216541976, 91.56239277702886, null, 66.75022216541976, 76.38930741682384, null, 66.75022216541976, 24.473608444401314, null, 66.75022216541976, 90.36760324498756, null, 97.49221800239482, 91.56239277702886, null, 97.49221800239482, 95.5497541935012, null, 97.49221800239482, 90.61610997915923, null, 97.49221800239482, 90.36760324498756, null, 97.49221800239482, 91.86086934113294, null, 97.49221800239482, 98.74526950897894, null, 20.50167178404354, 24.478524689000096, null, 20.50167178404354, 19.68574161501889, null, 20.50167178404354, 27.982292420796583, null, 20.50167178404354, 26.179156777431604, null, 20.50167178404354, 24.43465382731874, null, 25.507405317502965, 24.473608444401314, null, 25.507405317502965, 25.467730231558217, null, 25.507405317502965, 90.36760324498756, null, 25.507405317502965, 24.684070547557525, null, 98.74526950897894, 91.56239277702886, null, 98.74526950897894, 91.86086934113294, null, 98.74526950897894, 95.5497541935012, null, 98.74526950897894, 90.36760324498756, null, 98.74526950897894, 90.61610997915923, null, 24.478524689000096, 27.982292420796583, null, 24.478524689000096, 26.179156777431604, null, 24.478524689000096, 24.43465382731874, null, 24.478524689000096, 19.68574161501889, null, 63.81438815822722, 72.11438178934522, null, 63.81438815822722, 67.15281496125367, null, 63.81438815822722, 76.38930741682384, null, 63.81438815822722, 91.56239277702886, null, 63.81438815822722, 90.36760324498756, null, 66.52197276785603, 90.36760324498756, null, 66.52197276785603, 67.0856742537121, null, 66.52197276785603, 66.9515736527566, null, 66.52197276785603, 69.53812338065642, null, 66.52197276785603, 90.61610997915923, null, 66.52197276785603, 68.86690254545434, null, 66.52197276785603, 62.644684969346, null, 69.53812338065642, 90.36760324498756, null, 69.53812338065642, 67.0856742537121, null, 69.53812338065642, 90.61610997915923, null, 69.53812338065642, 66.9515736527566, null, 69.53812338065642, 68.86690254545434, null, 69.53812338065642, 62.644684969346, null, 66.9515736527566, 67.0856742537121, null, 66.9515736527566, 90.61610997915923, null, 66.9515736527566, 90.36760324498756, null, 66.9515736527566, 62.644684969346, null, 66.9515736527566, 68.86690254545434, null, 91.56239277702886, 72.11438178934522, null, 91.56239277702886, 67.15281496125367, null, 91.56239277702886, 76.38930741682384, null, 91.56239277702886, 91.86086934113294, null, 91.56239277702886, 95.5497541935012, null, 91.56239277702886, 90.61610997915923, null, 91.56239277702886, 90.36760324498756, null, 91.86086934113294, 90.36760324498756, null, 91.86086934113294, 90.61610997915923, null, 91.86086934113294, 95.5497541935012, null, 24.43465382731874, 27.982292420796583, null, 24.43465382731874, 26.179156777431604, null, 24.43465382731874, 19.68574161501889, null, 76.38930741682384, 72.11438178934522, null, 76.38930741682384, 67.15281496125367, null, 76.38930741682384, 90.36760324498756, null, 25.467730231558217, 24.473608444401314, null, 25.467730231558217, 90.36760324498756, null, 25.467730231558217, 24.684070547557525, null, 19.68574161501889, 27.982292420796583, null, 19.68574161501889, 26.179156777431604, null, 72.11438178934522, 90.36760324498756, null, 72.11438178934522, 67.15281496125367, null, 24.473608444401314, 24.684070547557525, null, 24.473608444401314, 90.36760324498756, null, 67.0856742537121, 68.86690254545434, null, 67.0856742537121, 90.61610997915923, null, 67.0856742537121, 90.36760324498756, null, 67.0856742537121, 62.644684969346, null, 90.36760324498756, 95.5497541935012, null, 90.36760324498756, 90.61610997915923, null, 90.36760324498756, 24.684070547557525, null, 90.36760324498756, 68.86690254545434, null, 90.36760324498756, 67.15281496125367, null, 90.36760324498756, 62.644684969346, null, 68.86690254545434, 62.644684969346, null, 68.86690254545434, 90.61610997915923, null, 62.644684969346, 90.61610997915923, null, 27.982292420796583, 26.179156777431604, null, 90.61610997915923, 95.5497541935012, null]}, {\"hoverinfo\": \"text\", \"marker\": {\"color\": [10, 6, 5, 5, 6, 5, 6, 7, 7, 7, 11, 6, 5, 6, 5, 5, 6, 5, 7, 21, 7, 7, 5, 12, 6, 5, 6, 5], \"colorbar\": {\"thickness\": 15, \"title\": {\"side\": \"right\", \"text\": \"Node Connections\"}, \"xanchor\": \"left\"}, \"colorscale\": [[0.0, \"rgb(255,255,217)\"], [0.125, \"rgb(237,248,177)\"], [0.25, \"rgb(199,233,180)\"], [0.375, \"rgb(127,205,187)\"], [0.5, \"rgb(65,182,196)\"], [0.625, \"rgb(29,145,192)\"], [0.75, \"rgb(34,94,168)\"], [0.875, \"rgb(37,52,148)\"], [1.0, \"rgb(8,29,88)\"]], \"line\": {\"width\": 2}, \"reversescale\": true, \"showscale\": true, \"size\": 10}, \"mode\": \"markers\", \"text\": [\"# of connections: 10\", \"# of connections: 6\", \"# of connections: 5\", \"# of connections: 5\", \"# of connections: 6\", \"# of connections: 5\", \"# of connections: 6\", \"# of connections: 7\", \"# of connections: 7\", \"# of connections: 7\", \"# of connections: 11\", \"# of connections: 6\", \"# of connections: 5\", \"# of connections: 6\", \"# of connections: 5\", \"# of connections: 5\", \"# of connections: 6\", \"# of connections: 5\", \"# of connections: 7\", \"# of connections: 21\", \"# of connections: 7\", \"# of connections: 7\", \"# of connections: 5\", \"# of connections: 12\", \"# of connections: 6\", \"# of connections: 5\", \"# of connections: 6\", \"# of connections: 5\"], \"type\": \"scatter\", \"x\": [8.079321046305106, 15.775169816035184, 80.81335739366162, 22.79375815189544, 12.709784021424715, 87.06574105627905, 6.822598053593523, 66.6652716551306, 63.34205375212692, 63.57496134456453, 17.492112121746718, 10.89067868425146, 81.55410172893957, 8.748374624905939, 26.191674735534697, 82.23969391941765, 10.40215610404138, 31.397704902242427, 67.75274689656928, 18.26549841829213, 60.11175588871629, 73.52297608693043, 77.09342644237488, 17.354396846225544, 16.409137793648995, 75.04493547656006, 9.25233509360699, 25.245197173693708], \"y\": [66.75022216541976, 97.49221800239482, 20.50167178404354, 25.507405317502965, 98.74526950897894, 24.478524689000096, 63.81438815822722, 66.52197276785603, 69.53812338065642, 66.9515736527566, 91.56239277702886, 91.86086934113294, 24.43465382731874, 76.38930741682384, 25.467730231558217, 19.68574161501889, 72.11438178934522, 24.473608444401314, 67.0856742537121, 90.36760324498756, 68.86690254545434, 62.644684969346, 27.982292420796583, 90.61610997915923, 95.5497541935012, 26.179156777431604, 67.15281496125367, 24.684070547557525]}],                        {\"font\": {\"size\": 16}, \"height\": 1000, \"hovermode\": \"closest\", \"margin\": {\"b\": 20, \"l\": 5, \"r\": 5, \"t\": 40}, \"showlegend\": false, \"template\": {\"data\": {\"bar\": [{\"error_x\": {\"color\": \"#2a3f5f\"}, \"error_y\": {\"color\": \"#2a3f5f\"}, \"marker\": {\"line\": {\"color\": \"#E5ECF6\", \"width\": 0.5}}, \"type\": \"bar\"}], \"barpolar\": [{\"marker\": {\"line\": {\"color\": \"#E5ECF6\", \"width\": 0.5}}, \"type\": \"barpolar\"}], \"carpet\": [{\"aaxis\": {\"endlinecolor\": \"#2a3f5f\", \"gridcolor\": \"white\", \"linecolor\": \"white\", \"minorgridcolor\": \"white\", \"startlinecolor\": \"#2a3f5f\"}, \"baxis\": {\"endlinecolor\": \"#2a3f5f\", \"gridcolor\": \"white\", \"linecolor\": \"white\", \"minorgridcolor\": \"white\", \"startlinecolor\": \"#2a3f5f\"}, \"type\": \"carpet\"}], \"choropleth\": [{\"colorbar\": {\"outlinewidth\": 0, \"ticks\": \"\"}, \"type\": \"choropleth\"}], \"contour\": [{\"colorbar\": {\"outlinewidth\": 0, \"ticks\": \"\"}, \"colorscale\": [[0.0, \"#0d0887\"], [0.1111111111111111, \"#46039f\"], [0.2222222222222222, \"#7201a8\"], [0.3333333333333333, \"#9c179e\"], [0.4444444444444444, \"#bd3786\"], [0.5555555555555556, \"#d8576b\"], [0.6666666666666666, \"#ed7953\"], [0.7777777777777778, \"#fb9f3a\"], [0.8888888888888888, \"#fdca26\"], [1.0, \"#f0f921\"]], \"type\": \"contour\"}], \"contourcarpet\": [{\"colorbar\": {\"outlinewidth\": 0, \"ticks\": \"\"}, \"type\": \"contourcarpet\"}], \"heatmap\": [{\"colorbar\": {\"outlinewidth\": 0, \"ticks\": \"\"}, \"colorscale\": [[0.0, \"#0d0887\"], [0.1111111111111111, \"#46039f\"], [0.2222222222222222, \"#7201a8\"], [0.3333333333333333, \"#9c179e\"], [0.4444444444444444, \"#bd3786\"], [0.5555555555555556, \"#d8576b\"], [0.6666666666666666, \"#ed7953\"], [0.7777777777777778, \"#fb9f3a\"], [0.8888888888888888, \"#fdca26\"], [1.0, \"#f0f921\"]], \"type\": \"heatmap\"}], \"heatmapgl\": [{\"colorbar\": {\"outlinewidth\": 0, \"ticks\": \"\"}, \"colorscale\": [[0.0, \"#0d0887\"], [0.1111111111111111, \"#46039f\"], [0.2222222222222222, \"#7201a8\"], [0.3333333333333333, \"#9c179e\"], [0.4444444444444444, \"#bd3786\"], [0.5555555555555556, \"#d8576b\"], [0.6666666666666666, \"#ed7953\"], [0.7777777777777778, \"#fb9f3a\"], [0.8888888888888888, \"#fdca26\"], [1.0, \"#f0f921\"]], \"type\": \"heatmapgl\"}], \"histogram\": [{\"marker\": {\"colorbar\": {\"outlinewidth\": 0, \"ticks\": \"\"}}, \"type\": \"histogram\"}], \"histogram2d\": [{\"colorbar\": {\"outlinewidth\": 0, \"ticks\": \"\"}, \"colorscale\": [[0.0, \"#0d0887\"], [0.1111111111111111, \"#46039f\"], [0.2222222222222222, \"#7201a8\"], [0.3333333333333333, \"#9c179e\"], [0.4444444444444444, \"#bd3786\"], [0.5555555555555556, \"#d8576b\"], [0.6666666666666666, \"#ed7953\"], [0.7777777777777778, \"#fb9f3a\"], [0.8888888888888888, \"#fdca26\"], [1.0, \"#f0f921\"]], \"type\": \"histogram2d\"}], \"histogram2dcontour\": [{\"colorbar\": {\"outlinewidth\": 0, \"ticks\": \"\"}, \"colorscale\": [[0.0, \"#0d0887\"], [0.1111111111111111, \"#46039f\"], [0.2222222222222222, \"#7201a8\"], [0.3333333333333333, \"#9c179e\"], [0.4444444444444444, \"#bd3786\"], [0.5555555555555556, \"#d8576b\"], [0.6666666666666666, \"#ed7953\"], [0.7777777777777778, \"#fb9f3a\"], [0.8888888888888888, \"#fdca26\"], [1.0, \"#f0f921\"]], \"type\": \"histogram2dcontour\"}], \"mesh3d\": [{\"colorbar\": {\"outlinewidth\": 0, \"ticks\": \"\"}, \"type\": \"mesh3d\"}], \"parcoords\": [{\"line\": {\"colorbar\": {\"outlinewidth\": 0, \"ticks\": \"\"}}, \"type\": \"parcoords\"}], \"pie\": [{\"automargin\": true, \"type\": \"pie\"}], \"scatter\": [{\"marker\": {\"colorbar\": {\"outlinewidth\": 0, \"ticks\": \"\"}}, \"type\": \"scatter\"}], \"scatter3d\": [{\"line\": {\"colorbar\": {\"outlinewidth\": 0, \"ticks\": \"\"}}, \"marker\": {\"colorbar\": {\"outlinewidth\": 0, \"ticks\": \"\"}}, \"type\": \"scatter3d\"}], \"scattercarpet\": [{\"marker\": {\"colorbar\": {\"outlinewidth\": 0, \"ticks\": \"\"}}, \"type\": \"scattercarpet\"}], \"scattergeo\": [{\"marker\": {\"colorbar\": {\"outlinewidth\": 0, \"ticks\": \"\"}}, \"type\": \"scattergeo\"}], \"scattergl\": [{\"marker\": {\"colorbar\": {\"outlinewidth\": 0, \"ticks\": \"\"}}, \"type\": \"scattergl\"}], \"scattermapbox\": [{\"marker\": {\"colorbar\": {\"outlinewidth\": 0, \"ticks\": \"\"}}, \"type\": \"scattermapbox\"}], \"scatterpolar\": [{\"marker\": {\"colorbar\": {\"outlinewidth\": 0, \"ticks\": \"\"}}, \"type\": \"scatterpolar\"}], \"scatterpolargl\": [{\"marker\": {\"colorbar\": {\"outlinewidth\": 0, \"ticks\": \"\"}}, \"type\": \"scatterpolargl\"}], \"scatterternary\": [{\"marker\": {\"colorbar\": {\"outlinewidth\": 0, \"ticks\": \"\"}}, \"type\": \"scatterternary\"}], \"surface\": [{\"colorbar\": {\"outlinewidth\": 0, \"ticks\": \"\"}, \"colorscale\": [[0.0, \"#0d0887\"], [0.1111111111111111, \"#46039f\"], [0.2222222222222222, \"#7201a8\"], [0.3333333333333333, \"#9c179e\"], [0.4444444444444444, \"#bd3786\"], [0.5555555555555556, \"#d8576b\"], [0.6666666666666666, \"#ed7953\"], [0.7777777777777778, \"#fb9f3a\"], [0.8888888888888888, \"#fdca26\"], [1.0, \"#f0f921\"]], \"type\": \"surface\"}], \"table\": [{\"cells\": {\"fill\": {\"color\": \"#EBF0F8\"}, \"line\": {\"color\": \"white\"}}, \"header\": {\"fill\": {\"color\": \"#C8D4E3\"}, \"line\": {\"color\": \"white\"}}, \"type\": \"table\"}]}, \"layout\": {\"annotationdefaults\": {\"arrowcolor\": \"#2a3f5f\", \"arrowhead\": 0, \"arrowwidth\": 1}, \"autotypenumbers\": \"strict\", \"coloraxis\": {\"colorbar\": {\"outlinewidth\": 0, \"ticks\": \"\"}}, \"colorscale\": {\"diverging\": [[0, \"#8e0152\"], [0.1, \"#c51b7d\"], [0.2, \"#de77ae\"], [0.3, \"#f1b6da\"], [0.4, \"#fde0ef\"], [0.5, \"#f7f7f7\"], [0.6, \"#e6f5d0\"], [0.7, \"#b8e186\"], [0.8, \"#7fbc41\"], [0.9, \"#4d9221\"], [1, \"#276419\"]], \"sequential\": [[0.0, \"#0d0887\"], [0.1111111111111111, \"#46039f\"], [0.2222222222222222, \"#7201a8\"], [0.3333333333333333, \"#9c179e\"], [0.4444444444444444, \"#bd3786\"], [0.5555555555555556, \"#d8576b\"], [0.6666666666666666, \"#ed7953\"], [0.7777777777777778, \"#fb9f3a\"], [0.8888888888888888, \"#fdca26\"], [1.0, \"#f0f921\"]], \"sequentialminus\": [[0.0, \"#0d0887\"], [0.1111111111111111, \"#46039f\"], [0.2222222222222222, \"#7201a8\"], [0.3333333333333333, \"#9c179e\"], [0.4444444444444444, \"#bd3786\"], [0.5555555555555556, \"#d8576b\"], [0.6666666666666666, \"#ed7953\"], [0.7777777777777778, \"#fb9f3a\"], [0.8888888888888888, \"#fdca26\"], [1.0, \"#f0f921\"]]}, \"colorway\": [\"#636efa\", \"#EF553B\", \"#00cc96\", \"#ab63fa\", \"#FFA15A\", \"#19d3f3\", \"#FF6692\", \"#B6E880\", \"#FF97FF\", \"#FECB52\"], \"font\": {\"color\": \"#2a3f5f\"}, \"geo\": {\"bgcolor\": \"white\", \"lakecolor\": \"white\", \"landcolor\": \"#E5ECF6\", \"showlakes\": true, \"showland\": true, \"subunitcolor\": \"white\"}, \"hoverlabel\": {\"align\": \"left\"}, \"hovermode\": \"closest\", \"mapbox\": {\"style\": \"light\"}, \"paper_bgcolor\": \"white\", \"plot_bgcolor\": \"#E5ECF6\", \"polar\": {\"angularaxis\": {\"gridcolor\": \"white\", \"linecolor\": \"white\", \"ticks\": \"\"}, \"bgcolor\": \"#E5ECF6\", \"radialaxis\": {\"gridcolor\": \"white\", \"linecolor\": \"white\", \"ticks\": \"\"}}, \"scene\": {\"xaxis\": {\"backgroundcolor\": \"#E5ECF6\", \"gridcolor\": \"white\", \"gridwidth\": 2, \"linecolor\": \"white\", \"showbackground\": true, \"ticks\": \"\", \"zerolinecolor\": \"white\"}, \"yaxis\": {\"backgroundcolor\": \"#E5ECF6\", \"gridcolor\": \"white\", \"gridwidth\": 2, \"linecolor\": \"white\", \"showbackground\": true, \"ticks\": \"\", \"zerolinecolor\": \"white\"}, \"zaxis\": {\"backgroundcolor\": \"#E5ECF6\", \"gridcolor\": \"white\", \"gridwidth\": 2, \"linecolor\": \"white\", \"showbackground\": true, \"ticks\": \"\", \"zerolinecolor\": \"white\"}}, \"shapedefaults\": {\"line\": {\"color\": \"#2a3f5f\"}}, \"ternary\": {\"aaxis\": {\"gridcolor\": \"white\", \"linecolor\": \"white\", \"ticks\": \"\"}, \"baxis\": {\"gridcolor\": \"white\", \"linecolor\": \"white\", \"ticks\": \"\"}, \"bgcolor\": \"#E5ECF6\", \"caxis\": {\"gridcolor\": \"white\", \"linecolor\": \"white\", \"ticks\": \"\"}}, \"title\": {\"x\": 0.05}, \"xaxis\": {\"automargin\": true, \"gridcolor\": \"white\", \"linecolor\": \"white\", \"ticks\": \"\", \"title\": {\"standoff\": 15}, \"zerolinecolor\": \"white\", \"zerolinewidth\": 2}, \"yaxis\": {\"automargin\": true, \"gridcolor\": \"white\", \"linecolor\": \"white\", \"ticks\": \"\", \"title\": {\"standoff\": 15}, \"zerolinecolor\": \"white\", \"zerolinewidth\": 2}}}, \"title\": {\"font\": {\"size\": 16}}, \"width\": 1000, \"xaxis\": {\"range\": [0, 100], \"showgrid\": true, \"showticklabels\": true, \"zeroline\": true}, \"yaxis\": {\"range\": [0, 100], \"showgrid\": true, \"showticklabels\": true, \"zeroline\": true}},                        {\"responsive\": true}                    ).then(function(){\n",
       "                            \n",
       "var gd = document.getElementById('a9bf6758-c765-4af4-b0b1-6862f299ddce');\n",
       "var x = new MutationObserver(function (mutations, observer) {{\n",
       "        var display = window.getComputedStyle(gd).display;\n",
       "        if (!display || display === 'none') {{\n",
       "            console.log([gd, 'removed!']);\n",
       "            Plotly.purge(gd);\n",
       "            observer.disconnect();\n",
       "        }}\n",
       "}});\n",
       "\n",
       "// Listen for the removal of the full notebook cells\n",
       "var notebookContainer = gd.closest('#notebook-container');\n",
       "if (notebookContainer) {{\n",
       "    x.observe(notebookContainer, {childList: true});\n",
       "}}\n",
       "\n",
       "// Listen for the clearing of the current output cell\n",
       "var outputEl = gd.closest('.output');\n",
       "if (outputEl) {{\n",
       "    x.observe(outputEl, {childList: true});\n",
       "}}\n",
       "\n",
       "                        })                };                });            </script>        </div>"
      ]
     },
     "metadata": {},
     "output_type": "display_data"
    },
    {
     "name": "stdout",
     "output_type": "stream",
     "text": [
      "saving...\n"
     ]
    }
   ],
   "source": [
    "import plotly.graph_objects as go\n",
    "\n",
    "import networkx as nx\n",
    "import psutil\n",
    "\n",
    "G = nx.Graph()\n",
    "G.add_nodes_from(nodes)\n",
    "G.add_edges_from(edges)\n",
    "\n",
    "edge_x = []\n",
    "edge_y = []\n",
    "for edge in G.edges():\n",
    "    x0, y0 = G.nodes[edge[0]]['pos']\n",
    "    x1, y1 = G.nodes[edge[1]]['pos']\n",
    "    edge_x.append(x0)\n",
    "    edge_x.append(x1)\n",
    "    edge_x.append(None)\n",
    "    edge_y.append(y0)\n",
    "    edge_y.append(y1)\n",
    "    edge_y.append(None)\n",
    "\n",
    "edge_trace = go.Scatter(\n",
    "    x=edge_x, y=edge_y,\n",
    "    line=dict(width=0.5, color='#888'),\n",
    "    hoverinfo='none',\n",
    "    mode='lines')\n",
    "\n",
    "node_x = []\n",
    "node_y = []\n",
    "for node in G.nodes():\n",
    "    x, y = G.nodes[node]['pos']\n",
    "    node_x.append(x)\n",
    "    node_y.append(y)\n",
    "\n",
    "node_trace = go.Scatter(\n",
    "    x=node_x, y=node_y,\n",
    "    mode='markers',\n",
    "    hoverinfo='text',\n",
    "    marker=dict(\n",
    "        showscale=True,\n",
    "        # colorscale options\n",
    "        #'Greys' | 'YlGnBu' | 'Greens' | 'YlOrRd' | 'Bluered' | 'RdBu' |\n",
    "        #'Reds' | 'Blues' | 'Picnic' | 'Rainbow' | 'Portland' | 'Jet' |\n",
    "        #'Hot' | 'Blackbody' | 'Earth' | 'Electric' | 'Viridis' |\n",
    "        colorscale='YlGnBu',\n",
    "        reversescale=True,\n",
    "        color=[],\n",
    "        size=10,\n",
    "        colorbar=dict(\n",
    "            thickness=15,\n",
    "            title='Node Connections',\n",
    "            xanchor='left',\n",
    "            titleside='right'\n",
    "        ),\n",
    "        line_width=2))\n",
    "\n",
    "node_adjacencies = []\n",
    "node_text = []\n",
    "for node, adjacencies in enumerate(G.adjacency()):\n",
    "    node_adjacencies.append(len(adjacencies[1]))\n",
    "    node_text.append('# of connections: '+str(len(adjacencies[1])))\n",
    "\n",
    "node_trace.marker.color = node_adjacencies\n",
    "node_trace.text = node_text\n",
    "\n",
    "fig = go.Figure(data=[edge_trace, node_trace],\n",
    "             layout=go.Layout(\n",
    "                titlefont_size=16,\n",
    "                font_size=24,\n",
    "                showlegend=False,\n",
    "                hovermode='closest',\n",
    "                margin=dict(b=20,l=5,r=5,t=40),\n",
    "                width = 1000,\n",
    "                height = 1000,\n",
    "                #annotations=[ dict(\n",
    "                #    showarrow=False,\n",
    "                #    xref=\"paper\", yref=\"paper\",\n",
    "                #    x=0.005, y=-0.002 ) ],\n",
    "                xaxis=dict(range=[0,100],showgrid=True, zeroline=True, showticklabels=True),\n",
    "                yaxis=dict(range=[0,100],showgrid=True, zeroline=True, showticklabels=True))\n",
    "                )\n",
    "fig.show()\n",
    "fig.to_image(format=\"png\", engine=\"kaleido\")\n",
    "print(\"saving...\")\n",
    "fig.write_image(\"group5_limit5.png\")"
   ]
  },
  {
   "cell_type": "code",
   "execution_count": null,
   "id": "imported-idaho",
   "metadata": {},
   "outputs": [],
   "source": [
    "import seaborn as sns\n",
    "print(groups_df.iloc[0][\"follower\"])\n",
    "print(groups_df.iloc[0][\"followee\"])\n",
    "\n",
    "groups_df[\"size\"] = 0\n",
    "for i, row in enumerate(groups_df[\"followee\"]):\n",
    "    groups_df[\"size\"][i] = len(row)\n",
    "\n",
    "sns.set(rc={'figure.figsize':(11.7,8.27)})\n",
    "sns.histplot(data = groups_df, x = \"size\", binwidth = 1)"
   ]
  }
 ],
 "metadata": {
  "kernelspec": {
   "display_name": "Python 3",
   "language": "python",
   "name": "python3"
  },
  "language_info": {
   "codemirror_mode": {
    "name": "ipython",
    "version": 3
   },
   "file_extension": ".py",
   "mimetype": "text/x-python",
   "name": "python",
   "nbconvert_exporter": "python",
   "pygments_lexer": "ipython3",
   "version": "3.8.2"
  }
 },
 "nbformat": 4,
 "nbformat_minor": 5
}
